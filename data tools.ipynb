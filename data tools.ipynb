{
 "cells": [
  {
   "cell_type": "code",
   "execution_count": 30,
   "metadata": {},
   "outputs": [],
   "source": [
    "import os\n",
    "import csv\n",
    "import pickle\n",
    "import re\n",
    "\n",
    "def renamefile():\n",
    "    location = os.getcwd()\n",
    "    path = os.path.join(location, 'static/iconset/svg')\n",
    "    for filename in os.listdir(path):\n",
    "        os.rename(os.path.join(path,filename), os.path.join(path,filename[4:]))\n",
    "\n",
    "def file2csv():\n",
    "    location = os.getcwd()\n",
    "    path = location + '/static/iconset'\n",
    "    with open('iconbase.csv', 'w', newline='') as csvfile:\n",
    "        writer = csv.writer(csvfile)\n",
    "        for filename in os.listdir(path):\n",
    "            writer.writerow([filename])\n",
    "            \n",
    "def csv2list(csvname):\n",
    "    with open(csvname, mode='r') as csvfile:\n",
    "        reader = csv.reader(csvfile)\n",
    "        filelist = list(reader)\n",
    "        return filelist\n",
    "\n",
    "def list2keywords(filelist):\n",
    "    keywordslist = []\n",
    "    for filename in filelist:\n",
    "        name = filename[0].split(\".\")[0] # delete .scv\n",
    "        keywords = re.split('[-_\\s]',name)\n",
    "        for keyword in keywords:\n",
    "            if keyword.isdigit():\n",
    "                keywords.remove(keyword)\n",
    "        row = filename + keywords\n",
    "        keywordslist.append(row)\n",
    "    return keywordslist\n",
    "\n",
    "def listtocsv(keywordslist,csvname):\n",
    "    with open(csvname, 'w', newline='') as csvfile:\n",
    "        writer = csv.writer(csvfile, delimiter=',', quotechar='|', quoting=csv.QUOTE_MINIMAL)\n",
    "        for x in keywordslist:\n",
    "            writer.writerow(x)\n",
    "            \n",
    "# turn icon files to keyword list csv           \n",
    "def csv2keywordscsv(src, tgt):\n",
    "    namelist = csv2list(src)\n",
    "    keywordslist=list2keywords(namelist)\n",
    "    listtocsv(keywordslist, tgt)\n",
    "                  \n",
    "    \n",
    "def csv2dict():\n",
    "    icondict= {}\n",
    "    with open('iconset.csv', mode='r') as csvfile:\n",
    "        reader = csv.reader(csvfile)\n",
    "        for row in reader:\n",
    "            wordlist = []\n",
    "            for i in range(1, len(row)):\n",
    "                if row[i]:\n",
    "                    wordlist.append(row[i].lower())\n",
    "            icondict[row[0]] = wordlist\n",
    "    return icondict\n",
    "\n",
    "#input = {iconname: [word1, word2, ...], ...}\n",
    "#res = {word: [iconname1, iconname2, ...], ...}\n",
    "def fullIndex(icondict):\n",
    "    total_index = {}\n",
    "    for iconname in icondict.keys():\n",
    "        for word in icondict[iconname]:\n",
    "            if word in total_index.keys():\n",
    "                total_index[word].append(iconname)\n",
    "            else:\n",
    "                total_index[word] = [iconname]\n",
    "            \n",
    "    return total_index\n",
    "\n",
    "def save_dict(obj, name):\n",
    "    if not os.path.exists('/data'):\n",
    "        os.makedirs('/data')\n",
    "    with open('data/'+name+'.pkl', 'wb') as f:\n",
    "        pickle.dump(obj, f, pickle.HIGHEST_PROTOCOL)\n",
    "        \n",
    "def load_dict(name):\n",
    "    with open('data/'+name+'.pkl', 'rb') as f:\n",
    "        return pickle.load(f)\n",
    "        \n"
   ]
  },
  {
   "cell_type": "code",
   "execution_count": 18,
   "metadata": {},
   "outputs": [],
   "source": [
    "file2csv()"
   ]
  },
  {
   "cell_type": "code",
   "execution_count": 31,
   "metadata": {},
   "outputs": [],
   "source": [
    "csv2keywordscsv('iconbase.csv', 'iconset.csv')"
   ]
  },
  {
   "cell_type": "code",
   "execution_count": 32,
   "metadata": {},
   "outputs": [
    {
     "name": "stdout",
     "output_type": "stream",
     "text": [
      "947\n"
     ]
    }
   ],
   "source": [
    "index = fullIndex(csv2dict())\n",
    "save_dict(index, 'icondata')\n",
    "print(len(load_dict('icondata')))"
   ]
  },
  {
   "cell_type": "code",
   "execution_count": null,
   "metadata": {},
   "outputs": [],
   "source": [
    "!python server.py"
   ]
  }
 ],
 "metadata": {
  "kernelspec": {
   "display_name": "Python 3",
   "language": "python",
   "name": "python3"
  },
  "language_info": {
   "codemirror_mode": {
    "name": "ipython",
    "version": 3
   },
   "file_extension": ".py",
   "mimetype": "text/x-python",
   "name": "python",
   "nbconvert_exporter": "python",
   "pygments_lexer": "ipython3",
   "version": "3.6.3"
  }
 },
 "nbformat": 4,
 "nbformat_minor": 2
}
