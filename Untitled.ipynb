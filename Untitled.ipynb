{
 "cells": [
  {
   "cell_type": "code",
   "execution_count": null,
   "metadata": {},
   "outputs": [],
   "source": [
    "import os\n",
    "import csv\n",
    "import pickle\n",
    "\n",
    "def write_csv():\n",
    "    location = os.getcwd()\n",
    "    path = location + '/iconset'\n",
    "    with open('iconset.csv', 'w', newline='') as csvfile:\n",
    "        writer = csv.writer(csvfile, delimiter=' ', quotechar='|', quoting=csv.QUOTE_MINIMAL)\n",
    "        for root, dirs, files in os.walk(path):\n",
    "            for filename in files:\n",
    "                dirname = root.split(os.path.sep)[-1]\n",
    "                name = dirname+'/' + filename\n",
    "                writer.writerow([name])\n",
    "\n",
    "def csv_to_dict():\n",
    "    icondict= {}\n",
    "    with open('iconsets.csv', mode='r') as csvfile:\n",
    "        reader = csv.reader(csvfile)\n",
    "        for row in reader:\n",
    "            wordlist = []\n",
    "            for i in range(1, len(row)):\n",
    "                if row[i]:\n",
    "                    wordlist.append(row[i].lower())\n",
    "            icondict[row[0]] = wordlist\n",
    "    return icondict\n",
    "\n",
    "#input = {iconname: [word1, word2, ...], ...}\n",
    "#res = {word: [iconname1, iconname2, ...], ...}\n",
    "def fullIndex(icondict):\n",
    "    total_index = {}\n",
    "    for iconname in icondict.keys():\n",
    "        for word in icondict[iconname]:\n",
    "            if word in total_index.keys():\n",
    "                total_index[word].append(iconname)\n",
    "            else:\n",
    "                total_index[word] = [iconname]\n",
    "            \n",
    "    return total_index\n",
    "\n",
    "def save_dict(obj, name):\n",
    "    if not os.path.exists('/data'):\n",
    "        os.makedirs('/data')\n",
    "    with open('data/'+name+'.pkl', 'wb') as f:\n",
    "        pickle.dump(obj, f, pickle.HIGHEST_PROTOCOL)\n",
    "        \n",
    "def load_dict(name):\n",
    "    with open('data/'+name+'.pkl', 'rb') as f:\n",
    "        return pickle.load(f)\n",
    "    \n",
    "full_dict = fullIndex(csv_to_dict())\n",
    "save_dict(full_dict, 'icondata')\n",
    "print(load_dict('icondata'))\n",
    "    \n"
   ]
  },
  {
   "cell_type": "code",
   "execution_count": null,
   "metadata": {},
   "outputs": [],
   "source": [
    "! python server.py"
   ]
  }
 ],
 "metadata": {
  "kernelspec": {
   "display_name": "Python 3",
   "language": "python",
   "name": "python3"
  },
  "language_info": {
   "codemirror_mode": {
    "name": "ipython",
    "version": 3
   },
   "file_extension": ".py",
   "mimetype": "text/x-python",
   "name": "python",
   "nbconvert_exporter": "python",
   "pygments_lexer": "ipython3",
   "version": "3.6.3"
  }
 },
 "nbformat": 4,
 "nbformat_minor": 2
}
